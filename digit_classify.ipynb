{
 "cells": [
  {
   "cell_type": "code",
   "execution_count": 2,
   "metadata": {},
   "outputs": [
    {
     "name": "stdout",
     "output_type": "stream",
     "text": [
      "Train Epoch: 1 [0/60000] Loss: 2.319436\n",
      "Train Epoch: 1 [6400/60000] Loss: 0.858707\n",
      "Train Epoch: 1 [12800/60000] Loss: 0.546097\n",
      "Train Epoch: 1 [19200/60000] Loss: 0.336930\n",
      "Train Epoch: 1 [25600/60000] Loss: 0.345966\n",
      "Train Epoch: 1 [32000/60000] Loss: 0.402135\n",
      "Train Epoch: 1 [38400/60000] Loss: 0.265771\n",
      "Train Epoch: 1 [44800/60000] Loss: 0.147296\n",
      "Train Epoch: 1 [51200/60000] Loss: 0.177925\n",
      "Train Epoch: 1 [57600/60000] Loss: 0.153569\n",
      "\n",
      "Test set: Average loss: 0.0001, Accuracy: 9745/10000 (97.45%)\n",
      "\n",
      "Train Epoch: 2 [0/60000] Loss: 0.228996\n",
      "Train Epoch: 2 [6400/60000] Loss: 0.266775\n",
      "Train Epoch: 2 [12800/60000] Loss: 0.291039\n",
      "Train Epoch: 2 [19200/60000] Loss: 0.142091\n",
      "Train Epoch: 2 [25600/60000] Loss: 0.140427\n",
      "Train Epoch: 2 [32000/60000] Loss: 0.088990\n",
      "Train Epoch: 2 [38400/60000] Loss: 0.308388\n",
      "Train Epoch: 2 [44800/60000] Loss: 0.131954\n",
      "Train Epoch: 2 [51200/60000] Loss: 0.287530\n",
      "Train Epoch: 2 [57600/60000] Loss: 0.322196\n",
      "\n",
      "Test set: Average loss: 0.0000, Accuracy: 9848/10000 (98.48%)\n",
      "\n",
      "Train Epoch: 3 [0/60000] Loss: 0.127749\n",
      "Train Epoch: 3 [6400/60000] Loss: 0.183104\n",
      "Train Epoch: 3 [12800/60000] Loss: 0.206929\n",
      "Train Epoch: 3 [19200/60000] Loss: 0.121042\n",
      "Train Epoch: 3 [25600/60000] Loss: 0.163756\n",
      "Train Epoch: 3 [32000/60000] Loss: 0.177905\n",
      "Train Epoch: 3 [38400/60000] Loss: 0.295852\n",
      "Train Epoch: 3 [44800/60000] Loss: 0.120471\n",
      "Train Epoch: 3 [51200/60000] Loss: 0.067779\n",
      "Train Epoch: 3 [57600/60000] Loss: 0.290708\n",
      "\n",
      "Test set: Average loss: 0.0000, Accuracy: 9875/10000 (98.75%)\n",
      "\n",
      "Train Epoch: 4 [0/60000] Loss: 0.168021\n",
      "Train Epoch: 4 [6400/60000] Loss: 0.218191\n",
      "Train Epoch: 4 [12800/60000] Loss: 0.111419\n",
      "Train Epoch: 4 [19200/60000] Loss: 0.270200\n",
      "Train Epoch: 4 [25600/60000] Loss: 0.053385\n",
      "Train Epoch: 4 [32000/60000] Loss: 0.144414\n",
      "Train Epoch: 4 [38400/60000] Loss: 0.112464\n",
      "Train Epoch: 4 [44800/60000] Loss: 0.199554\n",
      "Train Epoch: 4 [51200/60000] Loss: 0.141578\n",
      "Train Epoch: 4 [57600/60000] Loss: 0.108819\n",
      "\n",
      "Test set: Average loss: 0.0000, Accuracy: 9862/10000 (98.62%)\n",
      "\n",
      "Train Epoch: 5 [0/60000] Loss: 0.163557\n",
      "Train Epoch: 5 [6400/60000] Loss: 0.182313\n",
      "Train Epoch: 5 [12800/60000] Loss: 0.269989\n",
      "Train Epoch: 5 [19200/60000] Loss: 0.131640\n",
      "Train Epoch: 5 [25600/60000] Loss: 0.064368\n",
      "Train Epoch: 5 [32000/60000] Loss: 0.092310\n",
      "Train Epoch: 5 [38400/60000] Loss: 0.187481\n",
      "Train Epoch: 5 [44800/60000] Loss: 0.095072\n",
      "Train Epoch: 5 [51200/60000] Loss: 0.162003\n",
      "Train Epoch: 5 [57600/60000] Loss: 0.135987\n"
     ]
    },
    {
     "name": "stderr",
     "output_type": "stream",
     "text": [
      "2024/12/29 13:18:19 WARNING mlflow.utils.requirements_utils: Found torch version (2.5.1+cu118) contains a local version label (+cu118). MLflow logged a pip requirement for this package as 'torch==2.5.1' without the local version label to make it installable from PyPI. To specify pip requirements containing local version labels, please use `conda_env` or `pip_requirements`.\n"
     ]
    },
    {
     "name": "stdout",
     "output_type": "stream",
     "text": [
      "\n",
      "Test set: Average loss: 0.0000, Accuracy: 9892/10000 (98.92%)\n",
      "\n"
     ]
    },
    {
     "name": "stderr",
     "output_type": "stream",
     "text": [
      "2024/12/29 13:18:34 WARNING mlflow.utils.requirements_utils: Found torch version (2.5.1+cu118) contains a local version label (+cu118). MLflow logged a pip requirement for this package as 'torch==2.5.1' without the local version label to make it installable from PyPI. To specify pip requirements containing local version labels, please use `conda_env` or `pip_requirements`.\n",
      "2024/12/29 13:18:34 WARNING mlflow.models.model: Model logged without a signature and input example. Please set `input_example` parameter when logging the model to auto infer the model signature.\n"
     ]
    }
   ],
   "source": [
    "import torch\n",
    "import torch.nn as nn\n",
    "import torch.optim as optim\n",
    "from torchvision import datasets, transforms\n",
    "from torch.utils.data import DataLoader\n",
    "import matplotlib.pyplot as plt\n",
    "import mlflow\n",
    "import mlflow.pytorch\n",
    "\n",
    "\n",
    "# Define the CNN model\n",
    "class SimpleNN(nn.Module):\n",
    "    def __init__(self):\n",
    "        super(SimpleNN, self).__init__()\n",
    "        self.conv = nn.Sequential(\n",
    "            nn.Conv2d(1, 10, kernel_size=5),\n",
    "            nn.ReLU(),\n",
    "            nn.MaxPool2d(kernel_size=2),\n",
    "            nn.Conv2d(10, 20, kernel_size=5),\n",
    "            nn.ReLU(),\n",
    "            nn.MaxPool2d(kernel_size=2)\n",
    "        )\n",
    "        self.fc = nn.Sequential(\n",
    "            nn.Flatten(),\n",
    "            nn.Linear(320, 50),\n",
    "            nn.ReLU(),\n",
    "            nn.Dropout(0.5),\n",
    "            nn.Linear(50, 10)\n",
    "        )\n",
    "\n",
    "    def forward(self, x):\n",
    "        x = self.conv(x)\n",
    "        x = self.fc(x)\n",
    "        return x\n",
    "\n",
    "\n",
    "# Set device\n",
    "device = torch.device(\"cuda\" if torch.cuda.is_available() else \"cpu\")\n",
    "\n",
    "# Load dataset\n",
    "transform = transforms.Compose([\n",
    "    transforms.ToTensor(),\n",
    "    transforms.Normalize((0.5,), (0.5,))\n",
    "])\n",
    "\n",
    "train_dataset = datasets.MNIST(root='./data', train=True, transform=transform, download=True)\n",
    "test_dataset = datasets.MNIST(root='./data', train=False, transform=transform, download=True)\n",
    "\n",
    "train_loader = DataLoader(train_dataset, batch_size=64, shuffle=True)\n",
    "test_loader = DataLoader(test_dataset, batch_size=1000, shuffle=False)\n",
    "\n",
    "# Initialize the model, loss function, and optimizer\n",
    "model = SimpleNN().to(device)\n",
    "criterion = nn.CrossEntropyLoss()\n",
    "optimizer = optim.Adam(model.parameters(), lr=0.001)\n",
    "\n",
    "\n",
    "# Training loop\n",
    "def train(model, device, train_loader, optimizer, criterion, epoch):\n",
    "    model.train()\n",
    "    for batch_idx, (data, target) in enumerate(train_loader):\n",
    "        data, target = data.to(device), target.to(device)\n",
    "        optimizer.zero_grad()\n",
    "        output = model(data)\n",
    "        loss = criterion(output, target)\n",
    "        loss.backward()\n",
    "        optimizer.step()\n",
    "\n",
    "        # Log training loss to MLflow\n",
    "        mlflow.log_metric(\"train_loss\", loss.item(), step=(epoch - 1) * len(train_loader) + batch_idx)\n",
    "\n",
    "        if batch_idx % 100 == 0:\n",
    "            print(f\"Train Epoch: {epoch} [{batch_idx * len(data)}/{len(train_loader.dataset)}] \"\n",
    "                  f\"Loss: {loss.item():.6f}\")\n",
    "\n",
    "\n",
    "# Testing loop\n",
    "def test(model, device, test_loader, criterion, epoch):\n",
    "    model.eval()\n",
    "    test_loss = 0\n",
    "    correct = 0\n",
    "    with torch.no_grad():\n",
    "        for data, target in test_loader:\n",
    "            data, target = data.to(device), target.to(device)\n",
    "            output = model(data)\n",
    "            test_loss += criterion(output, target).item()\n",
    "            pred = output.argmax(dim=1, keepdim=True)\n",
    "            correct += pred.eq(target.view_as(pred)).sum().item()\n",
    "\n",
    "    test_loss /= len(test_loader.dataset)\n",
    "    accuracy = 100. * correct / len(test_loader.dataset)\n",
    "\n",
    "    # Log test metrics to MLflow\n",
    "    mlflow.log_metric(\"test_loss\", test_loss, step=epoch)\n",
    "    mlflow.log_metric(\"test_accuracy\", accuracy, step=epoch)\n",
    "\n",
    "    print(f\"\\nTest set: Average loss: {test_loss:.4f}, Accuracy: {correct}/{len(test_loader.dataset)} \"\n",
    "          f\"({accuracy:.2f}%)\\n\")\n",
    "\n",
    "\n",
    "# Run training and testing with MLflow tracking\n",
    "with mlflow.start_run():\n",
    "    # Log parameters to MLflow\n",
    "    mlflow.log_param(\"learning_rate\", 0.001)\n",
    "    mlflow.log_param(\"batch_size\", 64)\n",
    "    mlflow.log_param(\"num_epochs\", 5)\n",
    "\n",
    "    # Training and testing\n",
    "    num_epochs = 5\n",
    "    for epoch in range(1, num_epochs + 1):\n",
    "        train(model, device, train_loader, optimizer, criterion, epoch)\n",
    "        test(model, device, test_loader, criterion, epoch)\n",
    "\n",
    "    # Log the model to MLflow\n",
    "    mlflow.pytorch.log_model(model, \"mnist_model\")\n"
   ]
  },
  {
   "cell_type": "code",
   "execution_count": 3,
   "metadata": {},
   "outputs": [],
   "source": [
    "torch.save(model.state_dict(), \"mnist_model.pth\")\n"
   ]
  },
  {
   "cell_type": "code",
   "execution_count": 4,
   "metadata": {},
   "outputs": [
    {
     "name": "stderr",
     "output_type": "stream",
     "text": [
      "C:\\Users\\iKILL\\AppData\\Local\\Temp\\ipykernel_11504\\3845506018.py:2: FutureWarning: You are using `torch.load` with `weights_only=False` (the current default value), which uses the default pickle module implicitly. It is possible to construct malicious pickle data which will execute arbitrary code during unpickling (See https://github.com/pytorch/pytorch/blob/main/SECURITY.md#untrusted-models for more details). In a future release, the default value for `weights_only` will be flipped to `True`. This limits the functions that could be executed during unpickling. Arbitrary objects will no longer be allowed to be loaded via this mode unless they are explicitly allowlisted by the user via `torch.serialization.add_safe_globals`. We recommend you start setting `weights_only=True` for any use case where you don't have full control of the loaded file. Please open an issue on GitHub for any issues related to this experimental feature.\n",
      "  model.load_state_dict(torch.load('mnist_model.pth'))\n"
     ]
    },
    {
     "data": {
      "text/plain": [
       "<All keys matched successfully>"
      ]
     },
     "execution_count": 4,
     "metadata": {},
     "output_type": "execute_result"
    }
   ],
   "source": [
    "model = SimpleNN().to(device)\n",
    "model.load_state_dict(torch.load('mnist_model.pth'))"
   ]
  },
  {
   "cell_type": "code",
   "execution_count": 14,
   "metadata": {},
   "outputs": [
    {
     "data": {
      "text/plain": [
       "<matplotlib.image.AxesImage at 0x2a68b9629f0>"
      ]
     },
     "execution_count": 14,
     "metadata": {},
     "output_type": "execute_result"
    },
    {
     "data": {
      "image/png": "[encoded data removed]",
      "text/plain": [
       "<Figure size 640x480 with 1 Axes>"
      ]
     },
     "metadata": {},
     "output_type": "display_data"
    }
   ],
   "source": [
    "import cv2\n",
    "\n",
    "img = cv2.imread('7.png')\n",
    "img = cv2.cvtColor(img, cv2.COLOR_BGR2GRAY)\n",
    "img = cv2.resize(img,(28,28))\n",
    "img = cv2.bitwise_not(img)\n",
    "plt.imshow(img, cmap='gray')\n"
   ]
  },
  {
   "cell_type": "code",
   "execution_count": 16,
   "metadata": {},
   "outputs": [
    {
     "name": "stdout",
     "output_type": "stream",
     "text": [
      "Prediction: 7\n"
     ]
    }
   ],
   "source": [
    "img_tensor = torch.from_numpy(img)\n",
    "img_tensor = img_tensor.unsqueeze(0).unsqueeze(0).float()\n",
    "img_tensor = img_tensor.to(device)\n",
    "output = model(img_tensor)\n",
    "\n",
    "pred = output.argmax(dim=1,keepdim = True)\n",
    "print(f\"Prediction: {pred.item()}\")"
   ]
  }
 ],
 "metadata": {
  "kernelspec": {
   "display_name": "Python 3",
   "language": "python",
   "name": "python3"
  },
  "language_info": {
   "codemirror_mode": {
    "name": "ipython",
    "version": 3
   },
   "file_extension": ".py",
   "mimetype": "text/x-python",
   "name": "python",
   "nbconvert_exporter": "python",
   "pygments_lexer": "ipython3",
   "version": "3.12.6"
  }
 },
 "nbformat": 4,
 "nbformat_minor": 4
}
